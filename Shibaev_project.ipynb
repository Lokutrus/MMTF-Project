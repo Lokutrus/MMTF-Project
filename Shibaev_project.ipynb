{
 "cells": [
  {
   "cell_type": "code",
   "execution_count": 1,
   "metadata": {},
   "outputs": [],
   "source": [
    "import pandas as pd\n",
    "import numpy as np\n",
    "\n",
    "import matplotlib.pyplot as plt\n",
    "%matplotlib inline\n",
    "%matplotlib inline"
   ]
  },
  {
   "cell_type": "markdown",
   "metadata": {},
   "source": [
    "## Загрузка данных\n",
    "Считаем и посмотрим на данные:"
   ]
  },
  {
   "cell_type": "code",
   "execution_count": 2,
   "metadata": {},
   "outputs": [
    {
     "name": "stdout",
     "output_type": "stream",
     "text": [
      "i          20.0\n",
      "j          20.0\n",
      "T_ij        5.0\n",
      "r_ij       12.0\n",
      "dist_ij     0.0\n",
      "Name: 204, dtype: float64\n"
     ]
    }
   ],
   "source": [
    "data = pd.read_csv(\"Gasnikov/trips.csv\", names=[\"i\", \"j\", \"T_ij\", \"r_ij\", \"dist_ij\"])\n",
    "\n",
    "N = max(data[\"i\"].max(), data[\"j\"].max())\n",
    "\n",
    "T_real = np.zeros((N, N))\n",
    "time_real = np.zeros((N, N))\n",
    "dist_real = np.zeros((N, N))\n",
    "for _, row in data.iterrows():\n",
    "    i, j = int(row[\"i\"]), int(row[\"j\"])\n",
    "    if (i - 1 == j - 1 == 19):\n",
    "        print(row)\n",
    "    T_real[i - 1, j - 1] = row[\"T_ij\"]\n",
    "    time_real[i - 1, j - 1] = row[\"r_ij\"]\n",
    "    dist_real[i - 1, j - 1] = row[\"dist_ij\"]"
   ]
  },
  {
   "cell_type": "code",
   "execution_count": 3,
   "metadata": {},
   "outputs": [
    {
     "data": {
      "image/png": "[encoded data removed]",
      "text/plain": [
       "<Figure size 1296x432 with 6 Axes>"
      ]
     },
     "metadata": {
      "needs_background": "light"
     },
     "output_type": "display_data"
    }
   ],
   "source": [
    "fig, axs = plt.subplots(1, 3, figsize=(18, 6))\n",
    "\n",
    "i = axs[0].imshow(np.log10(T_real + 1e-1), cmap=\"coolwarm\")\n",
    "axs[0].set_title(\"log(T_real)\")\n",
    "fig.colorbar(i, ax=axs[0], fraction=0.046, pad=0.04)\n",
    "\n",
    "i = axs[1].imshow(time_real, cmap=\"coolwarm\")\n",
    "axs[1].set_title(\"time_real\")\n",
    "fig.colorbar(i, ax=axs[1], fraction=0.046, pad=0.04)\n",
    "\n",
    "i = axs[2].imshow(dist_real, cmap=\"coolwarm\")\n",
    "axs[2].set_title(\"dist_real\")\n",
    "fig.colorbar(i, ax=axs[2], fraction=0.046, pad=0.04)\n",
    "\n",
    "plt.savefig(\"data.png\")\n",
    "plt.show()"
   ]
  },
  {
   "cell_type": "markdown",
   "metadata": {},
   "source": [
    "Видим, что диагонали ненулевые (кроме 1 элемента в $dist\\_real$, что мы поправим меньше) - это логично, т.к. даже в пределах одного района расстояние необходимое людям для передвижения от места жительства на работу ненулевое. В том месте где есть ноль мы заменим на среднее по диагонали. Остальные неизвестные значения мы заполним $+\\inf$ так как тогда в нашей модели в них будут предсказываться почти 0, что нам и нужно для $MSE$"
   ]
  },
  {
   "cell_type": "markdown",
   "metadata": {},
   "source": [
    "Положим неизвестные значения по времени/расстоянию равными $+\\inf$, т.к. для них надо получать $T_{ij}=0$."
   ]
  },
  {
   "cell_type": "code",
   "execution_count": 4,
   "metadata": {},
   "outputs": [],
   "source": [
    "inf = 1e10\n",
    "time_diag = time_real[np.arange(0, N), np.arange(0, N)]\n",
    "time_diag[time_diag == 0] = time_diag.mean()\n",
    "time_real[time_real == 0] = inf\n",
    "time_real[np.arange(0, N), np.arange(0, N)] = time_diag\n",
    "\n",
    "dist_diag = dist_real[np.arange(0, N), np.arange(0, N)]\n",
    "dist_diag[dist_diag == 0] = dist_real.mean()\n",
    "dist_real[dist_real == 0] = inf\n",
    "dist_real[np.arange(0, N), np.arange(0, N)] = dist_diag"
   ]
  },
  {
   "cell_type": "markdown",
   "metadata": {},
   "source": [
    "Наконец зададим ограничения (истоки/стоки) как суммы по строкам/столбцам искомой матрицы корреспонденции."
   ]
  },
  {
   "cell_type": "code",
   "execution_count": 5,
   "metadata": {},
   "outputs": [],
   "source": [
    "L_real = T_real.sum(axis=1, keepdims=True) # Исход. корреспонденция\n",
    "W_real = T_real.sum(axis=0, keepdims=True) # Вход. корреспонденция"
   ]
  },
  {
   "cell_type": "markdown",
   "metadata": {},
   "source": [
    "## Описание функций\n",
    "\n",
    "В начале распишем используемые функционалы потерь"
   ]
  },
  {
   "cell_type": "code",
   "execution_count": 6,
   "metadata": {},
   "outputs": [],
   "source": [
    "class LossFunction(object):\n",
    "    def __call__(*args, **kwars):\n",
    "        raise NotImplementedError(\"Call must be implemented\")\n",
    "\n",
    "\n",
    "class MSE(LossFunction):\n",
    "    def __call__(self, actual, predicted):\n",
    "        \"\"\"\n",
    "        Returns mean squared error between actual and predicted data\n",
    "\n",
    "        Parameters:\n",
    "        ----------\n",
    "        actual: np.array\n",
    "            Array of actual data\n",
    "        predicted: np.array\n",
    "            Predicted data, must be of the same size as left\n",
    "        Returns:\n",
    "        ----------\n",
    "        float: MSE(actual, predicted)\n",
    "        \"\"\"\n",
    "        return ((actual - predicted) ** 2).mean()\n",
    "\n",
    "\n",
    "class MAPE(LossFunction):\n",
    "    def __call__(self, actual, predicted, mask=None):\n",
    "        \"\"\"\n",
    "        Returns mean absolute percentage error between actual and predicted data. \n",
    "        If provided, mask array is used to calculate MAPE only over masked data\n",
    "\n",
    "        Parameters:\n",
    "        ----------\n",
    "        actual: np.array\n",
    "            Array of actual data\n",
    "        predicted: np.array\n",
    "            Predicted data, must be of the same size as left\n",
    "        mask: np.array\n",
    "            Optional argument, used to mask data if provided (only masked data \n",
    "            will be used to calculate MAPE, can be used to avoid missing data) \n",
    "        Returns:\n",
    "        ----------\n",
    "        float: MAPE\n",
    "        \"\"\"\n",
    "        eps = 1e-10\n",
    "        if mask is None:\n",
    "            act_m = actual\n",
    "            pred_m = predicted\n",
    "        else:\n",
    "            act_m = actual[mask]\n",
    "            pred_m = predicted[mask]\n",
    "        return (np.abs(act_m - pred_m) / (np.abs(actual) + eps)).mean()\n",
    "\n",
    "\n",
    "class MaxError(LossFunction):\n",
    "    def __call__(self, actual, predicted):\n",
    "        \"\"\"\n",
    "        Returns maximum absolute deviation between actual and predicted data\n",
    "\n",
    "        Parameters:\n",
    "        ----------\n",
    "        actual: np.array\n",
    "            Array of actual data\n",
    "        predicted: np.array\n",
    "            Predicted data, must be of the same size as left\n",
    "        Returns:\n",
    "        ----------\n",
    "        float: maximum absolute deviation, np.abs(actual-forecast).max()\n",
    "        \"\"\"\n",
    "        return np.abs(actual - predicted).max()"
   ]
  },
  {
   "cell_type": "markdown",
   "metadata": {},
   "source": [
    "$TLF$, или функция тяготения - это то как входят матрицы потерь в нашу функцию пересчета $T_{pred}$. Основная рассматриваемая модель - в которой функция тяготения имеет вид $e^{-\\alpha\\cdot dist^{\\beta}\\cdot time^{\\gamma}}$. В данной модели три параметра — степени $\\beta,\\gamma$, которые мы будем перебираем по сетке, и $\\alpha$ который подбирается наилучшим образом (делением отрезка)."
   ]
  },
  {
   "cell_type": "code",
   "execution_count": 7,
   "metadata": {},
   "outputs": [],
   "source": [
    "class TravelLossFunction(object):\n",
    "    def __call__(*args, **kwars):\n",
    "        raise NotImplementedError(\"Call must be implemented\")\n",
    "\n",
    "\n",
    "class ExponentialTLF(TravelLossFunction):\n",
    "    def __init__(self, alpha=0.01, **kwargs):\n",
    "        self.alpha = alpha\n",
    "\n",
    "    def __call__(self, distances):\n",
    "        \"\"\"\n",
    "        Returns exponential tlf with fixed alpha applied to distances\n",
    "\n",
    "        Parameters:\n",
    "        ----------\n",
    "        distances: np.array\n",
    "            Array of distances\n",
    "        Returns:\n",
    "        ----------\n",
    "        np.array: exp(-alpha * distances), elementwise\n",
    "        \"\"\"\n",
    "        return np.exp(-self.alpha * distances)\n",
    "\n",
    "\n",
    "class ExponentialTLFDistTime(TravelLossFunction):\n",
    "    def __init__(self, alpha=0.01, beta=0.5, gamma=0.5, **kwargs):\n",
    "        self.etlf = ExponentialTLF(alpha)\n",
    "        self.beta = beta\n",
    "        self.gamma = gamma\n",
    "\n",
    "    def __call__(self, distances, times):\n",
    "        \"\"\"\n",
    "        Returns exponential tlf with fixed alpha applied to cost array obtained as\n",
    "        cost = (distances ** beta) * (times ** gamma)\n",
    "\n",
    "        Parameters:\n",
    "        ----------\n",
    "        distances: np.array\n",
    "            Array of distances\n",
    "        times: np.array\n",
    "            Array of times\n",
    "        Returns:\n",
    "        ----------\n",
    "        np.array: exp(-alpha * (distances ** beta) * (times ** gamma)), elementwise\n",
    "        \"\"\"\n",
    "        cost = (distances ** self.beta) * (times ** self.gamma)\n",
    "        return self.etlf(cost)\n",
    "\n",
    "\n",
    "class PolynomialTLF(TravelLossFunction):\n",
    "    def __init__(self, alpha=0.01, beta=0.5, gamma=0.5, **kwargs):\n",
    "        self.alpha = alpha\n",
    "        self.beta = beta\n",
    "        self.gamma = gamma\n",
    "\n",
    "    def __call__(self, distances, times):\n",
    "        \"\"\"\n",
    "        Returns polynomial tlf with fixed alpha applied to cost array obtained as\n",
    "        cost = (distances ** beta) * (times ** gamma)\n",
    "\n",
    "        Parameters:\n",
    "        distances: np.array\n",
    "            Array of distances\n",
    "        times: np.array\n",
    "            Array of times\n",
    "        Returns:\n",
    "        ----------\n",
    "        np.array: 1 / (alpha * (distances ** beta) * (times ** gamma)), elementwise\n",
    "        \"\"\"\n",
    "        cost = (distances ** self.beta) * (times ** self.gamma)\n",
    "        return 1 / (self.alpha * cost)"
   ]
  },
  {
   "cell_type": "markdown",
   "metadata": {},
   "source": [
    "Теперь опишем функции для пересчета $T_{pred}$, а также для обновления двойственных переменных $A$ и $B$"
   ]
  },
  {
   "cell_type": "code",
   "execution_count": 8,
   "metadata": {},
   "outputs": [],
   "source": [
    "def make_T_pred(pred_A, pred_B, L_real, W_real, travel_loss):\n",
    "    \"\"\"\n",
    "    parameters:\n",
    "        pred_A: np.array, (N, 1)\n",
    "        pred_B: np.array, (1, N)\n",
    "        L_real: np.array, (N, 1)\n",
    "        W_real: np.array, (1, N)\n",
    "        travel_loss: np.array(N, N)\n",
    "    \"\"\"\n",
    "    return ((pred_A * L_real) @ (pred_B * W_real)) * travel_loss\n",
    "\n",
    "def update_A(pred_B, W_real, travel_loss):\n",
    "    \"\"\"\n",
    "    parameters:\n",
    "        pred_B: np.array, (1, N)\n",
    "        W_real: np.array, (1, N)\n",
    "        travel_loss: np.array(N, N)\n",
    "    \"\"\"\n",
    "    eps = 1e-10\n",
    "    return 1 / (travel_loss @ ((W_real * pred_B).T) + eps)\n",
    "\n",
    "def update_B(pred_A, L_real, travel_loss):\n",
    "    \"\"\"\n",
    "    parameters:\n",
    "        pred_A: np.array, (N, 1)\n",
    "        L_real: np.array, (N, 1)\n",
    "        travel_loss: np.array(N, N)\n",
    "    \"\"\"\n",
    "    eps = 1e-10\n",
    "    return 1 / (((L_real * pred_A).T) @ travel_loss + eps)\n",
    "\n",
    "\n",
    "def update_AB(pred_A, pred_B, L_real, W_real, travel_loss):\n",
    "    pred_A_new = update_A(pred_B, W_real, travel_loss)\n",
    "    pred_B_new = update_B(pred_A_new, L_real, travel_loss)\n",
    "    return pred_A_new, pred_B_new"
   ]
  },
  {
   "cell_type": "markdown",
   "metadata": {},
   "source": [
    "Наконец опишем функцию для поиска $\\alpha$ - на каждом шаге она берет отрезок, делит его на $k+2$ частей, вычисляет $loss$ во всех точках кроме крайних и переходит к подотрезку с центром в точке в которой был достигнут минимум $loss$."
   ]
  },
  {
   "cell_type": "code",
   "execution_count": 9,
   "metadata": {},
   "outputs": [],
   "source": [
    "def find_alpha(left, right, conf, k=3, max_depth=10, store_losses=False):\n",
    "    eps = 1e-4\n",
    "\n",
    "    dist_real = conf[\"travel_loss_kwargs\"][\"dist_real\"]\n",
    "    time_real = conf[\"travel_loss_kwargs\"][\"time_real\"]\n",
    "\n",
    "    update_AB = conf[\"update_AB\"]\n",
    "    make_T_pred = conf[\"make_T_pred\"]\n",
    "    loss = conf[\"loss\"]\n",
    "    L_real = conf[\"L_real\"]\n",
    "    W_real = conf[\"W_real\"]\n",
    "    T_real = conf[\"T_real\"]\n",
    "    MSE_loss = MSE()\n",
    "    \n",
    "    alphas = None\n",
    "    full_losses = []\n",
    "\n",
    "    for depth in range(max_depth):\n",
    "        alphas = np.linspace(left, right, k + 2)\n",
    "        best_losses = []\n",
    "        for alpha in alphas[1:k+1]:\n",
    "            travel_loss_function = conf[\"travel_loss_function\"](alpha, **conf[\"travel_loss_kwargs\"])\n",
    "            losses = []\n",
    "            \n",
    "            pred_A = np.ones((N, 1))\n",
    "            pred_B = np.ones((1, N))\n",
    "            while True:\n",
    "                travel_loss = travel_loss_function(dist_real, time_real)\n",
    "\n",
    "                pred_A_new, pred_B_new = update_AB(pred_A, pred_B, L_real, W_real, travel_loss)\n",
    "\n",
    "                T_pred = make_T_pred(pred_A, pred_B, L_real, W_real, travel_loss)\n",
    "\n",
    "                if store_losses and depth == max_depth - 1:\n",
    "                    losses.append(loss(T_real, T_pred))\n",
    "\n",
    "                if (MSE_loss(pred_A_new, pred_A) / MSE_loss(pred_A_new, 0) < eps and \n",
    "                    MSE_loss(pred_B_new, pred_B) / MSE_loss(pred_B_new, 0) < eps\n",
    "                   ):\n",
    "                    best_losses.append(loss(T_real, T_pred))\n",
    "                    break\n",
    "                pred_A, pred_B = pred_A_new, pred_B_new\n",
    "            if store_losses and depth == max_depth - 1:\n",
    "                full_losses.append(losses)\n",
    "        best_i = np.argmin(best_losses) + 1\n",
    "        left = alphas[best_i - 1]\n",
    "        right = alphas[best_i + 1]\n",
    "    if store_losses:\n",
    "        return alphas[best_i], np.array(best_losses).min(), full_losses[np.argmin(best_losses)]\n",
    "    else:\n",
    "        return alphas[best_i], np.array(best_losses).min()"
   ]
  },
  {
   "cell_type": "markdown",
   "metadata": {},
   "source": [
    "## Эксперимент"
   ]
  },
  {
   "cell_type": "code",
   "execution_count": 10,
   "metadata": {},
   "outputs": [],
   "source": [
    "conf = {\n",
    "    \"travel_loss_function\": ExponentialTLFDistTime,\n",
    "    \"travel_loss_kwargs\": {\n",
    "        \"beta\": 1,\n",
    "        \"gamma\": 0.0,\n",
    "        \"dist_real\": dist_real,\n",
    "        \"time_real\": time_real\n",
    "    },\n",
    "    \"update_AB\": update_AB,\n",
    "    \"make_T_pred\": make_T_pred,\n",
    "    \"loss\": MSE(),\n",
    "    \"L_real\": L_real,\n",
    "    \"W_real\": W_real,\n",
    "    \"T_real\": T_real\n",
    "}"
   ]
  },
  {
   "cell_type": "markdown",
   "metadata": {},
   "source": [
    "Мы перебираем степени матриц расстояний/времени от 0 до 1 т.к. 1 кажется логичным верхним пределом - люди тратят время на поездку и теряют ровно столько, сколько могли бы заработать за это время. При этом чем дальше человек едет тем больше у него возможностей, так что и потери его будут расти возможно даже медленнее чем линейно."
   ]
  },
  {
   "cell_type": "code",
   "execution_count": 11,
   "metadata": {},
   "outputs": [],
   "source": [
    "grid_size = 11\n",
    "\n",
    "betas = np.linspace(0.0, 1.0, grid_size)\n",
    "gammas = np.linspace(0.0, 1.0, grid_size)\n",
    "\n",
    "beta_gamma_loss = np.zeros((grid_size, grid_size))\n",
    "beta_gamma_alphas = np.zeros((grid_size, grid_size))\n",
    "\n",
    "for i, beta in enumerate(betas):\n",
    "    for j, gamma in enumerate(gammas):\n",
    "        conf[\"travel_loss_kwargs\"][\"beta\"] = beta\n",
    "        conf[\"travel_loss_kwargs\"][\"gamma\"] = gamma\n",
    "        alpha, loss = find_alpha(0.0, 10.0, conf, k=3, max_depth=10)\n",
    "        beta_gamma_loss[i, j] = loss\n",
    "        beta_gamma_alphas[i, j] = alpha\n",
    "    "
   ]
  },
  {
   "cell_type": "code",
   "execution_count": 12,
   "metadata": {},
   "outputs": [
    {
     "data": {
      "image/png": "[encoded data removed]",
      "text/plain": [
       "<Figure size 1152x432 with 4 Axes>"
      ]
     },
     "metadata": {
      "needs_background": "light"
     },
     "output_type": "display_data"
    }
   ],
   "source": [
    "fig, axs = plt.subplots(1, 2, figsize=(16, 6))\n",
    "\n",
    "i = axs[0].imshow(np.log10(beta_gamma_loss), cmap=\"coolwarm\")\n",
    "axs[0].set_title(\"log(Loss)\")\n",
    "axs[0].set_xlabel(\"gammas\")\n",
    "axs[0].set_xticks([0, 2, 4, 6, 8, 10]) \n",
    "axs[0].set_xticklabels(np.linspace(0.0, 1.0, (grid_size + 1) // 2).round(1))\n",
    "axs[0].set_ylabel(\"betas\")\n",
    "axs[0].set_yticks([0, 2, 4, 6, 8, 10]) \n",
    "axs[0].set_yticklabels(np.linspace(0.0, 1.0, (grid_size + 1) // 2).round(1))\n",
    "\n",
    "fig.colorbar(i, ax=axs[0], fraction=0.046, pad=0.04)\n",
    "\n",
    "i = axs[1].imshow(beta_gamma_alphas, cmap=\"coolwarm\")\n",
    "axs[1].set_title(\"alpha\")\n",
    "axs[1].set_xlabel(\"gammas\")\n",
    "axs[1].set_xticks([0, 2, 4, 6, 8, 10]) \n",
    "axs[1].set_xticklabels(np.linspace(0.0, 1.0, (grid_size + 1) // 2).round(1))\n",
    "axs[1].set_ylabel(\"betas\")\n",
    "axs[1].set_yticks([0, 2, 4, 6, 8, 10]) \n",
    "axs[1].set_yticklabels(np.linspace(0.0, 1.0, (grid_size + 1) // 2).round(1))\n",
    "fig.colorbar(i, ax=axs[1], fraction=0.046, pad=0.04)\n",
    "\n",
    "plt.savefig(\"3_param_results.png\")\n",
    "plt.show()"
   ]
  },
  {
   "cell_type": "markdown",
   "metadata": {},
   "source": [
    "Видим, что лучшие результаты получаются когда суммарная степень $\\beta+\\gamma$ заметно меньше единицы. "
   ]
  },
  {
   "cell_type": "code",
   "execution_count": 13,
   "metadata": {},
   "outputs": [
    {
     "name": "stdout",
     "output_type": "stream",
     "text": [
      "Best beta: 0.200, Best gamma:  0.100\n",
      "Best alpha: 2.364\n",
      "Best loss: 4.551\n"
     ]
    }
   ],
   "source": [
    "ind = np.unravel_index(beta_gamma_loss.argmin(), beta_gamma_loss.shape)\n",
    "beta = betas[ind[0]]\n",
    "gamma = gammas[ind[1]]\n",
    "conf[\"travel_loss_kwargs\"][\"beta\"] = beta\n",
    "conf[\"travel_loss_kwargs\"][\"gamma\"] = gamma\n",
    "alpha, loss = find_alpha(0.0, 10.0, conf, k=3, max_depth=20)\n",
    "print(\"Best beta: {:.03f}, Best gamma:  {:.03f}\".format(beta, gamma))\n",
    "print(\"Best alpha: {:.03f}\".format(alpha))\n",
    "print(\"Best loss: {:.03f}\".format(loss))"
   ]
  },
  {
   "cell_type": "code",
   "execution_count": 14,
   "metadata": {},
   "outputs": [
    {
     "name": "stdout",
     "output_type": "stream",
     "text": [
      "beta: 1.000, gamma: 0.000\n",
      "Best alpha: 0.167\n",
      "Best loss: 11.038\n"
     ]
    }
   ],
   "source": [
    "conf[\"travel_loss_kwargs\"][\"beta\"] = 1\n",
    "conf[\"travel_loss_kwargs\"][\"gamma\"] = 0\n",
    "alpha, loss = find_alpha(0.0, 10.0, conf, k=3, max_depth=20)\n",
    "print(\"beta: {:.03f}, gamma: {:.03f}\".format(1, 0))\n",
    "print(\"Best alpha: {:.03f}\".format(alpha))\n",
    "print(\"Best loss: {:.03f}\".format(loss))"
   ]
  },
  {
   "cell_type": "markdown",
   "metadata": {},
   "source": [
    "### Графики\n",
    "\n",
    "Взглянем на несколько графиков сходимости (не по критерию останова, а именно по интересующему нас $MSE$ между реальной и восстановленной матрицами корреспонденции)."
   ]
  },
  {
   "cell_type": "code",
   "execution_count": 15,
   "metadata": {},
   "outputs": [],
   "source": [
    "grid_size = 10\n",
    "\n",
    "betas = np.linspace(0.1, 1.0, grid_size)\n",
    "gammas = np.linspace(0.1, 1.0, grid_size)\n",
    "\n",
    "beta_gamma_loss = np.zeros((grid_size, grid_size))\n",
    "beta_gamma_alphas = np.zeros((grid_size, grid_size))\n",
    "beta_gamma_losses = []\n",
    "\n",
    "for i, beta in enumerate(betas):\n",
    "    for j, gamma in enumerate(gammas):\n",
    "        conf[\"travel_loss_kwargs\"][\"beta\"] = beta\n",
    "        conf[\"travel_loss_kwargs\"][\"gamma\"] = gamma\n",
    "        alpha, loss, full_losses = find_alpha(0.0, 10.0, conf, k=3, max_depth=10, store_losses=True)\n",
    "        beta_gamma_loss[i, j] = loss\n",
    "        beta_gamma_alphas[i, j] = alpha\n",
    "        beta_gamma_losses.append(full_losses)"
   ]
  },
  {
   "cell_type": "code",
   "execution_count": 16,
   "metadata": {},
   "outputs": [
    {
     "data": {
      "image/png": "[encoded data removed]",
      "text/plain": [
       "<Figure size 1008x432 with 1 Axes>"
      ]
     },
     "metadata": {
      "needs_background": "light"
     },
     "output_type": "display_data"
    }
   ],
   "source": [
    "flat_ind = beta_gamma_loss.flatten().argsort()[np.array([0, 4, 19, 29])]\n",
    "ind = np.unravel_index(flat_ind, beta_gamma_loss.shape)\n",
    "plt.figure(figsize=(14, 6))\n",
    "plt.grid(True)\n",
    "\n",
    "for i in range(ind[0].shape[0]):\n",
    "    beta = betas[ind[0][i]]\n",
    "    gamma = gammas[ind[1][i]]\n",
    "    alpha = beta_gamma_alphas[ind[0][i], ind[1][i]]\n",
    "    losses = beta_gamma_losses[flat_ind[i]]\n",
    "    plt.plot(losses[1:], label=\"alpha={:0.2f}, beta={:0.2f}, gamma={:0.2f}\".format(alpha, beta, gamma))\n",
    "    \n",
    "plt.title(\"Сходимость метода в зависимости от параметров функции тяготения\")\n",
    "plt.ylabel(\"MSE loss\")\n",
    "plt.xlabel(\"Итерация\")\n",
    "plt.legend()\n",
    "\n",
    "plt.savefig(\"converg.png\")\n",
    "plt.show()"
   ]
  },
  {
   "cell_type": "markdown",
   "metadata": {},
   "source": [
    "Здесь синим показан график соответствующий наилучшему набору $\\alpha,\\beta,\\gamma$. Провал в начале соответствует решениям не соответствующим ограничениям (суммам по строкам/столбцам матрицы корреспонденции, по-другому стокам/истокам нашей модели)."
   ]
  },
  {
   "cell_type": "markdown",
   "metadata": {},
   "source": [
    "### Полином\n",
    "\n",
    "Дополнительно можно посмотреть на полиномиальную модель функции тяготения, описанную выше. "
   ]
  },
  {
   "cell_type": "code",
   "execution_count": 17,
   "metadata": {},
   "outputs": [],
   "source": [
    "grid_size = 21\n",
    "\n",
    "betas = np.linspace(0.0, 2.0, grid_size)\n",
    "gammas = np.linspace(0.0, 2.0, grid_size)\n",
    "\n",
    "beta_gamma_loss = np.zeros((grid_size, grid_size))\n",
    "beta_gamma_alphas = np.zeros((grid_size, grid_size))\n",
    "\n",
    "conf[\"travel_loss_function\"] = PolynomialTLF\n",
    "\n",
    "for i, beta in enumerate(betas):\n",
    "    for j, gamma in enumerate(gammas):\n",
    "        conf[\"travel_loss_kwargs\"][\"beta\"] = beta\n",
    "        conf[\"travel_loss_kwargs\"][\"gamma\"] = gamma\n",
    "        alpha, loss = find_alpha(0.0, 1000.0, conf, k=3, max_depth=10)\n",
    "        beta_gamma_loss[i, j] = loss\n",
    "        beta_gamma_alphas[i, j] = alpha"
   ]
  },
  {
   "cell_type": "code",
   "execution_count": 18,
   "metadata": {},
   "outputs": [
    {
     "data": {
      "image/png": "[encoded data removed]",
      "text/plain": [
       "<Figure size 1152x432 with 4 Axes>"
      ]
     },
     "metadata": {
      "needs_background": "light"
     },
     "output_type": "display_data"
    }
   ],
   "source": [
    "fig, axs = plt.subplots(1, 2, figsize=(16, 6))\n",
    "\n",
    "i = axs[0].imshow(np.log10(beta_gamma_loss), cmap=\"coolwarm\")\n",
    "axs[0].set_title(\"log(Loss)\")\n",
    "axs[0].set_xlabel(\"gammas\")\n",
    "axs[0].set_xticks(np.arange(0, grid_size, 2)) \n",
    "axs[0].set_xticklabels(np.linspace(0.0, 2.0, (grid_size + 1) // 2).round(1))\n",
    "axs[0].set_ylabel(\"betas\")\n",
    "axs[0].set_yticks(np.arange(0, grid_size, 2)) \n",
    "axs[0].set_yticklabels(np.linspace(0.0, 2.0, (grid_size + 1) // 2).round(1))\n",
    "\n",
    "fig.colorbar(i, ax=axs[0], fraction=0.046, pad=0.04)\n",
    "\n",
    "i = axs[1].imshow(np.log10(beta_gamma_alphas), cmap=\"coolwarm\")\n",
    "axs[1].set_title(\"log(Alpha)\")\n",
    "axs[1].set_xlabel(\"gammas\")\n",
    "axs[1].set_xticks(np.arange(0, grid_size, 2)) \n",
    "axs[1].set_xticklabels(np.linspace(0.0, 2.0, (grid_size + 1) // 2).round(1))\n",
    "axs[1].set_ylabel(\"betas\")\n",
    "axs[1].set_yticks(np.arange(0, grid_size, 2)) \n",
    "axs[1].set_yticklabels(np.linspace(0.0, 2.0, (grid_size + 1) // 2).round(1))\n",
    "fig.colorbar(i, ax=axs[1], fraction=0.046, pad=0.04)\n",
    "\n",
    "plt.show()"
   ]
  },
  {
   "cell_type": "code",
   "execution_count": 19,
   "metadata": {},
   "outputs": [
    {
     "name": "stdout",
     "output_type": "stream",
     "text": [
      "Best beta: 0.900, Best gamma:  0.800\n",
      "Best alpha: 0.000\n",
      "Best loss: 5.077\n"
     ]
    }
   ],
   "source": [
    "ind = np.unravel_index(beta_gamma_loss.argmin(), beta_gamma_loss.shape)\n",
    "beta = betas[ind[0]]\n",
    "gamma = gammas[ind[1]]\n",
    "conf[\"travel_loss_kwargs\"][\"beta\"] = beta\n",
    "conf[\"travel_loss_kwargs\"][\"gamma\"] = gamma\n",
    "alpha, loss = find_alpha(0.0, 10.0, conf, k=3, max_depth=20)\n",
    "print(\"Best beta: {:.03f}, Best gamma:  {:.03f}\".format(beta, gamma))\n",
    "print(\"Best alpha: {:.03f}\".format(alpha))\n",
    "print(\"Best loss: {:.03f}\".format(loss))"
   ]
  },
  {
   "cell_type": "markdown",
   "metadata": {},
   "source": [
    "В принципе ее результаты также выглядят лучше чем у однопараметрической модели с фиксированными степенями."
   ]
  },
  {
   "cell_type": "markdown",
   "metadata": {},
   "source": [
    "# Temp"
   ]
  },
  {
   "cell_type": "code",
   "execution_count": 11,
   "metadata": {},
   "outputs": [
    {
     "data": {
      "text/plain": [
       "<matplotlib.legend.Legend at 0x7f25bb4508e0>"
      ]
     },
     "execution_count": 11,
     "metadata": {},
     "output_type": "execute_result"
    },
    {
     "data": {
      "image/png": "[encoded data removed]",
      "text/plain": [
       "<Figure size 864x432 with 1 Axes>"
      ]
     },
     "metadata": {
      "needs_background": "light"
     },
     "output_type": "display_data"
    }
   ],
   "source": [
    "plt.figure(figsize=(12, 6))\n",
    "best = np.argsort([losses[-1] for losses in losses_diff_alpha])[:5]\n",
    "for i, alpha in enumerate(alphas[best]):\n",
    "    plt.plot(losses_diff_alpha[best[i]], label=\"alpha={:0.2f}\".format(alpha))\n",
    "plt.legend()"
   ]
  },
  {
   "cell_type": "code",
   "execution_count": 13,
   "metadata": {},
   "outputs": [
    {
     "data": {
      "image/png": "[encoded data removed]",
      "text/plain": [
       "<Figure size 864x288 with 3 Axes>"
      ]
     },
     "metadata": {
      "needs_background": "light"
     },
     "output_type": "display_data"
    }
   ],
   "source": [
    "fig, axs = plt.subplots(1, 3, figsize=(12, 4))\n",
    "\n",
    "axs[0].imshow(np.log(T_real + 1e-1), cmap=\"coolwarm\")\n",
    "axs[0].set_title(\"log(T_real)\")\n",
    "\n",
    "axs[1].imshow(T_real - T_pred)\n",
    "axs[1].set_title(\"r_real (time)\")\n",
    "\n",
    "axs[2].imshow(dist_real)\n",
    "axs[2].set_title(\"dist_real\")\n",
    "\n",
    "plt.show()"
   ]
  },
  {
   "cell_type": "code",
   "execution_count": 17,
   "metadata": {},
   "outputs": [
    {
     "data": {
      "text/plain": [
       "4.226822582700519e-16"
      ]
     },
     "execution_count": 17,
     "metadata": {},
     "output_type": "execute_result"
    }
   ],
   "source": [
    "MSE()(T_real.sum(axis=0), T_pred.sum(axis=0))"
   ]
  },
  {
   "cell_type": "code",
   "execution_count": 18,
   "metadata": {},
   "outputs": [
    {
     "data": {
      "text/plain": [
       "4.644403206147772e-16"
      ]
     },
     "execution_count": 18,
     "metadata": {},
     "output_type": "execute_result"
    }
   ],
   "source": [
    "MSE()(T_real.sum(axis=1), T_pred.sum(axis=1))"
   ]
  },
  {
   "cell_type": "code",
   "execution_count": null,
   "metadata": {},
   "outputs": [],
   "source": []
  }
 ],
 "metadata": {
  "kernelspec": {
   "display_name": "Python 3",
   "language": "python",
   "name": "python3"
  },
  "language_info": {
   "codemirror_mode": {
    "name": "ipython",
    "version": 3
   },
   "file_extension": ".py",
   "mimetype": "text/x-python",
   "name": "python",
   "nbconvert_exporter": "python",
   "pygments_lexer": "ipython3",
   "version": "3.8.0"
  }
 },
 "nbformat": 4,
 "nbformat_minor": 2
}
